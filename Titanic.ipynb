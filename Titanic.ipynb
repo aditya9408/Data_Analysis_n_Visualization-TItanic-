{
 "cells": [
  {
   "cell_type": "code",
   "execution_count": 1,
   "metadata": {},
   "outputs": [],
   "source": [
    "import pandas as pd\n",
    "from scipy.stats import pearsonr\n",
    "from numpy import isnan\n",
    "from sklearn.impute import SimpleImputer\n",
    "from sklearn.preprocessing import LabelEncoder\n",
    "from sklearn.preprocessing import MinMaxScaler\n",
    "from sklearn.ensemble import RandomForestClassifier\n",
    "from sklearn.svm import SVC\n",
    "from sklearn.model_selection import train_test_split\n",
    "from sklearn.model_selection import cross_val_score\n",
    "import matplotlib.pyplot as plt"
   ]
  },
  {
   "cell_type": "code",
   "execution_count": 2,
   "metadata": {},
   "outputs": [
    {
     "data": {
      "text/html": [
       "<div>\n",
       "<style scoped>\n",
       "    .dataframe tbody tr th:only-of-type {\n",
       "        vertical-align: middle;\n",
       "    }\n",
       "\n",
       "    .dataframe tbody tr th {\n",
       "        vertical-align: top;\n",
       "    }\n",
       "\n",
       "    .dataframe thead th {\n",
       "        text-align: right;\n",
       "    }\n",
       "</style>\n",
       "<table border=\"1\" class=\"dataframe\">\n",
       "  <thead>\n",
       "    <tr style=\"text-align: right;\">\n",
       "      <th></th>\n",
       "      <th>PassengerId</th>\n",
       "      <th>Survived</th>\n",
       "      <th>Pclass</th>\n",
       "      <th>Name</th>\n",
       "      <th>Sex</th>\n",
       "      <th>Age</th>\n",
       "      <th>SibSp</th>\n",
       "      <th>Parch</th>\n",
       "      <th>Ticket</th>\n",
       "      <th>Fare</th>\n",
       "      <th>Cabin</th>\n",
       "      <th>Embarked</th>\n",
       "    </tr>\n",
       "  </thead>\n",
       "  <tbody>\n",
       "    <tr>\n",
       "      <th>0</th>\n",
       "      <td>1</td>\n",
       "      <td>0</td>\n",
       "      <td>3</td>\n",
       "      <td>Braund, Mr. Owen Harris</td>\n",
       "      <td>male</td>\n",
       "      <td>22.0</td>\n",
       "      <td>1</td>\n",
       "      <td>0</td>\n",
       "      <td>A/5 21171</td>\n",
       "      <td>7.2500</td>\n",
       "      <td>NaN</td>\n",
       "      <td>S</td>\n",
       "    </tr>\n",
       "    <tr>\n",
       "      <th>1</th>\n",
       "      <td>2</td>\n",
       "      <td>1</td>\n",
       "      <td>1</td>\n",
       "      <td>Cumings, Mrs. John Bradley (Florence Briggs Th...</td>\n",
       "      <td>female</td>\n",
       "      <td>38.0</td>\n",
       "      <td>1</td>\n",
       "      <td>0</td>\n",
       "      <td>PC 17599</td>\n",
       "      <td>71.2833</td>\n",
       "      <td>C85</td>\n",
       "      <td>C</td>\n",
       "    </tr>\n",
       "    <tr>\n",
       "      <th>2</th>\n",
       "      <td>3</td>\n",
       "      <td>1</td>\n",
       "      <td>3</td>\n",
       "      <td>Heikkinen, Miss. Laina</td>\n",
       "      <td>female</td>\n",
       "      <td>26.0</td>\n",
       "      <td>0</td>\n",
       "      <td>0</td>\n",
       "      <td>STON/O2. 3101282</td>\n",
       "      <td>7.9250</td>\n",
       "      <td>NaN</td>\n",
       "      <td>S</td>\n",
       "    </tr>\n",
       "    <tr>\n",
       "      <th>3</th>\n",
       "      <td>4</td>\n",
       "      <td>1</td>\n",
       "      <td>1</td>\n",
       "      <td>Futrelle, Mrs. Jacques Heath (Lily May Peel)</td>\n",
       "      <td>female</td>\n",
       "      <td>35.0</td>\n",
       "      <td>1</td>\n",
       "      <td>0</td>\n",
       "      <td>113803</td>\n",
       "      <td>53.1000</td>\n",
       "      <td>C123</td>\n",
       "      <td>S</td>\n",
       "    </tr>\n",
       "    <tr>\n",
       "      <th>4</th>\n",
       "      <td>5</td>\n",
       "      <td>0</td>\n",
       "      <td>3</td>\n",
       "      <td>Allen, Mr. William Henry</td>\n",
       "      <td>male</td>\n",
       "      <td>35.0</td>\n",
       "      <td>0</td>\n",
       "      <td>0</td>\n",
       "      <td>373450</td>\n",
       "      <td>8.0500</td>\n",
       "      <td>NaN</td>\n",
       "      <td>S</td>\n",
       "    </tr>\n",
       "  </tbody>\n",
       "</table>\n",
       "</div>"
      ],
      "text/plain": [
       "   PassengerId  Survived  Pclass  \\\n",
       "0            1         0       3   \n",
       "1            2         1       1   \n",
       "2            3         1       3   \n",
       "3            4         1       1   \n",
       "4            5         0       3   \n",
       "\n",
       "                                                Name     Sex   Age  SibSp  \\\n",
       "0                            Braund, Mr. Owen Harris    male  22.0      1   \n",
       "1  Cumings, Mrs. John Bradley (Florence Briggs Th...  female  38.0      1   \n",
       "2                             Heikkinen, Miss. Laina  female  26.0      0   \n",
       "3       Futrelle, Mrs. Jacques Heath (Lily May Peel)  female  35.0      1   \n",
       "4                           Allen, Mr. William Henry    male  35.0      0   \n",
       "\n",
       "   Parch            Ticket     Fare Cabin Embarked  \n",
       "0      0         A/5 21171   7.2500   NaN        S  \n",
       "1      0          PC 17599  71.2833   C85        C  \n",
       "2      0  STON/O2. 3101282   7.9250   NaN        S  \n",
       "3      0            113803  53.1000  C123        S  \n",
       "4      0            373450   8.0500   NaN        S  "
      ]
     },
     "metadata": {},
     "output_type": "display_data"
    }
   ],
   "source": [
    "import os\n",
    "for dirname, _, filenames in os.walk('/kaggle/input'):\n",
    "    for filename in filenames:\n",
    "        print(os.path.join(dirname, filename))\n",
    "\n",
    "# Load training data\n",
    "train = pd.read_csv(\"C:\\\\Users\\\\aadii\\\\train.csv\")\n",
    "\n",
    "# Load test data\n",
    "test = pd.read_csv(\"C:\\\\Users\\\\aadii\\\\test.csv\")\n",
    "\n",
    "# Take a look at the training data\n",
    "display(train.head())"
   ]
  },
  {
   "cell_type": "code",
   "execution_count": 3,
   "metadata": {},
   "outputs": [
    {
     "name": "stdout",
     "output_type": "stream",
     "text": [
      "<class 'pandas.core.frame.DataFrame'>\n",
      "RangeIndex: 891 entries, 0 to 890\n",
      "Data columns (total 12 columns):\n",
      " #   Column       Non-Null Count  Dtype  \n",
      "---  ------       --------------  -----  \n",
      " 0   PassengerId  891 non-null    int64  \n",
      " 1   Survived     891 non-null    int64  \n",
      " 2   Pclass       891 non-null    int64  \n",
      " 3   Name         891 non-null    object \n",
      " 4   Sex          891 non-null    object \n",
      " 5   Age          714 non-null    float64\n",
      " 6   SibSp        891 non-null    int64  \n",
      " 7   Parch        891 non-null    int64  \n",
      " 8   Ticket       891 non-null    object \n",
      " 9   Fare         891 non-null    float64\n",
      " 10  Cabin        204 non-null    object \n",
      " 11  Embarked     889 non-null    object \n",
      "dtypes: float64(2), int64(5), object(5)\n",
      "memory usage: 83.7+ KB\n"
     ]
    }
   ],
   "source": [
    "train.info()"
   ]
  },
  {
   "cell_type": "code",
   "execution_count": 4,
   "metadata": {},
   "outputs": [
    {
     "name": "stdout",
     "output_type": "stream",
     "text": [
      "\n",
      "Survived values are: [0 1]\n",
      "\n",
      "Pclass values are: [3 1 2]\n",
      "\n",
      "Sex values are: ['male' 'female']\n",
      "\n",
      "SibSp values are: [1 0 3 4 2 5 8]\n",
      "\n",
      "Parch values are: [0 1 2 5 3 4 6]\n",
      "\n",
      "Embarked values are: ['S' 'C' 'Q' nan]\n"
     ]
    }
   ],
   "source": [
    "print(\"\\nSurvived values are:\", train.Survived.unique())\n",
    "print(\"\\nPclass values are:\", train.Pclass.unique())\n",
    "print(\"\\nSex values are:\", train.Sex.unique())\n",
    "print(\"\\nSibSp values are:\", train.SibSp.unique())\n",
    "print(\"\\nParch values are:\", train.Parch.unique())\n",
    "print(\"\\nEmbarked values are:\", train.Embarked.unique())"
   ]
  },
  {
   "cell_type": "code",
   "execution_count": 5,
   "metadata": {},
   "outputs": [
    {
     "name": "stdout",
     "output_type": "stream",
     "text": [
      "Pearson correlation between Fare and Pclass: r = -0.549\n"
     ]
    }
   ],
   "source": [
    "corr, _ = pearsonr(train.Fare, train.Pclass)\n",
    "print(\"Pearson correlation between Fare and Pclass: r = {:.3f}\".format(corr))"
   ]
  },
  {
   "cell_type": "code",
   "execution_count": 6,
   "metadata": {},
   "outputs": [
    {
     "name": "stdout",
     "output_type": "stream",
     "text": [
      "Pearson correlation between SibSp and Parch: r = 0.415\n"
     ]
    }
   ],
   "source": [
    "# Check correlation of SibSp and Parch\n",
    "corr, _ = pearsonr(train.SibSp, train.Parch)\n",
    "print(\"Pearson correlation between SibSp and Parch: r = {:.3f}\".format(corr))"
   ]
  },
  {
   "cell_type": "code",
   "execution_count": 7,
   "metadata": {},
   "outputs": [
    {
     "name": "stdout",
     "output_type": "stream",
     "text": [
      "\n",
      "Pearson correlation between SibSp and Survived: r = -0.035\n",
      "\n"
     ]
    },
    {
     "data": {
      "image/png": "[encoded data removed]",
      "text/plain": [
       "<Figure size 640x480 with 1 Axes>"
      ]
     },
     "metadata": {},
     "output_type": "display_data"
    },
    {
     "name": "stdout",
     "output_type": "stream",
     "text": [
      "\n",
      "Pearson correlation between Parch and Survived: r = 0.082\n",
      "\n"
     ]
    },
    {
     "data": {
      "image/png": "[encoded data removed]",
      "text/plain": [
       "<Figure size 640x480 with 1 Axes>"
      ]
     },
     "metadata": {},
     "output_type": "display_data"
    }
   ],
   "source": [
    "corr, _ = pearsonr(train.SibSp, train.Survived)\n",
    "print(\"\\nPearson correlation between SibSp and Survived: r = {:.3f}\\n\".format(corr))\n",
    "\n",
    "# Plotting Survived vs. SibSp or Parch doesn't help, since Survived = (0, 1); plot survival rate for each group instead\n",
    "# Get a list of the survival rates for each SibSp value; FOR loop that iterates up to the max value (6); add 1 to include 6\n",
    "SibSp_surv = []\n",
    "for i in range(train.SibSp.max() + 1):\n",
    "    surv = train[train.SibSp == i][\"Survived\"]\n",
    "    \n",
    "    # Use IF statement to check that surv has values, otherwise division by zero error will result\n",
    "    if len(surv) > 0:\n",
    "        SibSp_surv.append(sum(surv) / len(surv))\n",
    "    else:\n",
    "        SibSp_surv.append(0)\n",
    "\n",
    "plt.bar(range(train.SibSp.max() + 1), SibSp_surv)\n",
    "plt.xlabel(\"SibSp\")\n",
    "plt.ylabel(\"Survived\")\n",
    "plt.title(\"Survival Rate by SubSp\")\n",
    "plt.show()\n",
    "corr, _ = pearsonr(train.Parch, train.Survived)\n",
    "print(\"\\nPearson correlation between Parch and Survived: r = {:.3f}\\n\".format(corr))\n",
    "\n",
    "# Get a list of the survival rates for each Parch value; FOR loop that iterates up to the max value (8); add 1 to include 8\n",
    "Parch_surv = []\n",
    "for i in range(train.Parch.max() + 1):\n",
    "    surv = train[train.Parch == i][\"Survived\"]\n",
    "    \n",
    "    # Use IF statement to check that surv has values, otherwise division by zero error will result\n",
    "    if len(surv) > 0:\n",
    "        Parch_surv.append(sum(surv) / len(surv))\n",
    "    else:\n",
    "        Parch_surv.append(0)\n",
    "\n",
    "plt.bar(range(train.Parch.max() + 1), Parch_surv)\n",
    "plt.xlabel(\"Parch\")\n",
    "plt.ylabel(\"Survived\")\n",
    "plt.title(\"Survival Rate by Parch\")\n",
    "plt.show()"
   ]
  },
  {
   "cell_type": "code",
   "execution_count": 8,
   "metadata": {},
   "outputs": [
    {
     "data": {
      "image/png": "[encoded data removed]",
      "text/plain": [
       "<Figure size 640x480 with 1 Axes>"
      ]
     },
     "metadata": {},
     "output_type": "display_data"
    },
    {
     "data": {
      "image/png": "[encoded data removed]",
      "text/plain": [
       "<Figure size 640x480 with 1 Axes>"
      ]
     },
     "metadata": {},
     "output_type": "display_data"
    },
    {
     "data": {
      "image/png": "[encoded data removed]",
      "text/plain": [
       "<Figure size 640x480 with 1 Axes>"
      ]
     },
     "metadata": {},
     "output_type": "display_data"
    },
    {
     "data": {
      "image/png": "[encoded data removed]",
      "text/plain": [
       "<Figure size 640x480 with 1 Axes>"
      ]
     },
     "metadata": {},
     "output_type": "display_data"
    }
   ],
   "source": [
    "# Get a list of the survival rates for each Pclass value; FOR loop that iterates up to the max value (3)\n",
    "\n",
    "Pclass_surv = []\n",
    "for i in range(train.Pclass.max()):\n",
    "    surv = train[train.Pclass == i + 1][\"Survived\"]\n",
    "    \n",
    "    # Use IF statement to check that surv has values, otherwise division by zero error will result\n",
    "    if len(surv) > 0:\n",
    "        Pclass_surv.append(sum(surv) / len(surv))\n",
    "    else:\n",
    "        Pclass_surv.append(0)\n",
    "\n",
    "plt.bar([1, 2, 3], Pclass_surv)\n",
    "plt.xlabel(\"Pclass\")\n",
    "plt.ylabel(\"Survived\")\n",
    "plt.title(\"Survival Rate by Pclass\")\n",
    "plt.show()\n",
    "# Get a list of the survival rates for each Sex\n",
    "\n",
    "men_surv = train[train.Sex == \"male\"][\"Survived\"]\n",
    "men_surv_rate = sum(men_surv) / len(men_surv)\n",
    "women_surv = train[train.Sex == \"female\"][\"Survived\"]\n",
    "women_surv_rate = sum(women_surv) / len(women_surv)\n",
    "\n",
    "plt.bar(['Male', 'Female'], [men_surv_rate, women_surv_rate])\n",
    "plt.xlabel(\"Sex\")\n",
    "plt.ylabel(\"Survived\")\n",
    "plt.title(\"Survival Rate by Sex\")\n",
    "plt.show()\n",
    "# Get a list of the survival rates for each Embarked value\n",
    "\n",
    "C_surv = train[train.Embarked == \"C\"][\"Survived\"]\n",
    "C_surv_rate = sum(C_surv) / len(C_surv)\n",
    "Q_surv = train[train.Embarked == \"Q\"][\"Survived\"]\n",
    "Q_surv_rate = sum(Q_surv) / len(Q_surv)\n",
    "S_surv = train[train.Embarked == \"S\"][\"Survived\"]\n",
    "S_surv_rate = sum(S_surv) / len(S_surv)\n",
    "\n",
    "\n",
    "plt.bar(['C', 'Q', 'S'], [C_surv_rate, Q_surv_rate, S_surv_rate])\n",
    "plt.xlabel(\"Embarked\")\n",
    "plt.ylabel(\"Survived\")\n",
    "plt.title(\"Survival Rate by Embarked\")\n",
    "plt.show()\n",
    "# Get a list of the survival rates for each Age; use a FOR loop to iterate over elements of the list of unique Ages\n",
    "age_unique = train.Age.unique()\n",
    "age_unique = age_unique[~isnan(age_unique)]\n",
    "age_unique.sort()\n",
    "\n",
    "age_surv_rate = []\n",
    "for age in age_unique:\n",
    "    age_surv = train[train.Age == age][\"Survived\"]\n",
    "    \n",
    "    # Use IF statement to check that age_surv has values, otherwise division by zero error will result\n",
    "    if len(age_surv) > 0:\n",
    "        age_surv_rate.append(sum(age_surv) / len(age_surv))\n",
    "    else:\n",
    "        age_surv_rate.append(0)\n",
    "        \n",
    "plt.bar(age_unique, age_surv_rate)\n",
    "plt.xlabel(\"Age\")\n",
    "plt.ylabel(\"Survived\")\n",
    "plt.title(\"Survival Rate by Age\")\n",
    "plt.show()"
   ]
  },
  {
   "cell_type": "code",
   "execution_count": 9,
   "metadata": {},
   "outputs": [
    {
     "name": "stdout",
     "output_type": "stream",
     "text": [
      "The number of missing values for each column is shown below:\n",
      "\n",
      "PassengerId      0\n",
      "Survived         0\n",
      "Pclass           0\n",
      "Name             0\n",
      "Sex              0\n",
      "Age            177\n",
      "SibSp            0\n",
      "Parch            0\n",
      "Ticket           0\n",
      "Fare             0\n",
      "Cabin          687\n",
      "Embarked         2\n",
      "dtype: int64\n"
     ]
    },
    {
     "data": {
      "image/png": "[encoded data removed]",
      "text/plain": [
       "<Figure size 640x480 with 1 Axes>"
      ]
     },
     "metadata": {},
     "output_type": "display_data"
    },
    {
     "name": "stdout",
     "output_type": "stream",
     "text": [
      "\n",
      "The number of missing values for each column after imputation is shown below:\n",
      "\n",
      "PassengerId      0\n",
      "Survived         0\n",
      "Pclass           0\n",
      "Name             0\n",
      "Sex              0\n",
      "Age              0\n",
      "SibSp            0\n",
      "Parch            0\n",
      "Ticket           0\n",
      "Fare             0\n",
      "Cabin          687\n",
      "Embarked         0\n",
      "dtype: int64\n"
     ]
    }
   ],
   "source": [
    "# Check again for missing values\n",
    "print(\"The number of missing values for each column is shown below:\\n\")\n",
    "print(train.isnull().sum())\n",
    "\n",
    "# Plot a histogram of Age, to see how to impute its missing values\n",
    "plt.hist(train.Age)\n",
    "plt.xlabel(\"Age\")\n",
    "plt.ylabel(\"Frequency\")\n",
    "plt.title(\"Histogram of Age\")\n",
    "plt.show()\n",
    "\n",
    "# Distribution of ages is skewed to the right. Impute with mode (most_frequent) \n",
    "from sklearn.impute import SimpleImputer\n",
    "mode_imputer = SimpleImputer(strategy='most_frequent')\n",
    "\n",
    "# Apply imputer on Age and Embarked columns\n",
    "impute_columns = ['Age', 'Embarked']\n",
    "train[impute_columns] = mode_imputer.fit_transform(train[impute_columns])\n",
    "\n",
    "# Check for missing values after imputation\n",
    "print(\"\\nThe number of missing values for each column after imputation is shown below:\\n\")\n",
    "print(train.isnull().sum())\n",
    "\n",
    "# Create a copy of train data\n",
    "X = train.copy()\n",
    "\n",
    "# Create Relatives predictor by adding SibSp and Parch; insert into X\n",
    "X.insert(0, \"Relatives\", train.SibSp + train.Parch, True)\n",
    "\n",
    "# Select features Relatives, Pclass, and Age; create new dataframe, X, that will be used in model building\n",
    "features = ['Relatives', 'Pclass', 'Age']\n",
    "X = X[features]\n",
    "\n",
    "# Apply Label Encoder to Sex to transform it into 0s and 1s; insert back into X dataset\n",
    "Sex_encoded = LabelEncoder().fit_transform(train.Sex)\n",
    "X.insert(0, \"Sex_encoded\", Sex_encoded, True)\n",
    "\n",
    "# Apply One-Hot encoding to Embarked; add back into X dataset\n",
    "Embarked = pd.get_dummies(train.Embarked)\n",
    "X = X.join(Embarked)\n",
    "\n",
    "# Isolate Survived from train data\n",
    "y = train[\"Survived\"]"
   ]
  },
  {
   "cell_type": "code",
   "execution_count": 10,
   "metadata": {},
   "outputs": [
    {
     "name": "stdout",
     "output_type": "stream",
     "text": [
      "The number of missing values for each column is shown below:\n",
      "\n",
      "PassengerId      0\n",
      "Pclass           0\n",
      "Name             0\n",
      "Sex              0\n",
      "Age             86\n",
      "SibSp            0\n",
      "Parch            0\n",
      "Ticket           0\n",
      "Fare             1\n",
      "Cabin          327\n",
      "Embarked         0\n",
      "dtype: int64\n",
      "\n",
      "The number of missing values for each column after imputation is shown below:\n",
      "\n",
      "PassengerId      0\n",
      "Pclass           0\n",
      "Name             0\n",
      "Sex              0\n",
      "Age              0\n",
      "SibSp            0\n",
      "Parch            0\n",
      "Ticket           0\n",
      "Fare             1\n",
      "Cabin          327\n",
      "Embarked         0\n",
      "dtype: int64\n"
     ]
    }
   ],
   "source": [
    "print(\"The number of missing values for each column is shown below:\\n\")\n",
    "print(test.isnull().sum())\n",
    "\n",
    "# Distribution of ages is skewed to the right. Impute with mode (most_frequent) \n",
    "from sklearn.impute import SimpleImputer\n",
    "mode_imputer = SimpleImputer(strategy='most_frequent')\n",
    "\n",
    "# Apply imputer on Age column\n",
    "test['Age'] = mode_imputer.fit_transform(test['Age'].values.reshape(-1, 1))\n",
    "\n",
    "# Check for missing values after imputation\n",
    "print(\"\\nThe number of missing values for each column after imputation is shown below:\\n\")\n",
    "print(test.isnull().sum())\n",
    "# Create a copy of train data\n",
    "X_test = test.copy()\n",
    "\n",
    "# Create Relatives predictor by adding SibSp and Parch; insert into X_test\n",
    "X_test.insert(0, \"Relatives\", test.SibSp + test.Parch, True)\n",
    "\n",
    "# Select features Relatives, Pclass, and Age; create new dataframe, X_test, that will be used in model building\n",
    "features = ['Relatives', 'Pclass', 'Age']\n",
    "X_test = X_test[features]\n",
    "\n",
    "# Apply Label Encoder to Sex to transform it into 0s and 1s; insert back into X_test dataset\n",
    "Sex_encoded = LabelEncoder().fit_transform(test.Sex)\n",
    "X_test.insert(0, \"Sex_encoded\", Sex_encoded, True)\n",
    "\n",
    "# Apply One-Hot encoding to Embarked; add into X_test dataset\n",
    "Embarked = pd.get_dummies(test.Embarked)\n",
    "X_test = X_test.join(Embarked)"
   ]
  },
  {
   "cell_type": "code",
   "execution_count": 11,
   "metadata": {},
   "outputs": [
    {
     "data": {
      "text/html": [
       "<div>\n",
       "<style scoped>\n",
       "    .dataframe tbody tr th:only-of-type {\n",
       "        vertical-align: middle;\n",
       "    }\n",
       "\n",
       "    .dataframe tbody tr th {\n",
       "        vertical-align: top;\n",
       "    }\n",
       "\n",
       "    .dataframe thead th {\n",
       "        text-align: right;\n",
       "    }\n",
       "</style>\n",
       "<table border=\"1\" class=\"dataframe\">\n",
       "  <thead>\n",
       "    <tr style=\"text-align: right;\">\n",
       "      <th></th>\n",
       "      <th>Sex_encoded</th>\n",
       "      <th>Relatives</th>\n",
       "      <th>Pclass</th>\n",
       "      <th>Age</th>\n",
       "      <th>C</th>\n",
       "      <th>Q</th>\n",
       "      <th>S</th>\n",
       "    </tr>\n",
       "  </thead>\n",
       "  <tbody>\n",
       "    <tr>\n",
       "      <th>0</th>\n",
       "      <td>1</td>\n",
       "      <td>0</td>\n",
       "      <td>3</td>\n",
       "      <td>34.5</td>\n",
       "      <td>0</td>\n",
       "      <td>1</td>\n",
       "      <td>0</td>\n",
       "    </tr>\n",
       "    <tr>\n",
       "      <th>1</th>\n",
       "      <td>0</td>\n",
       "      <td>1</td>\n",
       "      <td>3</td>\n",
       "      <td>47.0</td>\n",
       "      <td>0</td>\n",
       "      <td>0</td>\n",
       "      <td>1</td>\n",
       "    </tr>\n",
       "    <tr>\n",
       "      <th>2</th>\n",
       "      <td>1</td>\n",
       "      <td>0</td>\n",
       "      <td>2</td>\n",
       "      <td>62.0</td>\n",
       "      <td>0</td>\n",
       "      <td>1</td>\n",
       "      <td>0</td>\n",
       "    </tr>\n",
       "    <tr>\n",
       "      <th>3</th>\n",
       "      <td>1</td>\n",
       "      <td>0</td>\n",
       "      <td>3</td>\n",
       "      <td>27.0</td>\n",
       "      <td>0</td>\n",
       "      <td>0</td>\n",
       "      <td>1</td>\n",
       "    </tr>\n",
       "    <tr>\n",
       "      <th>4</th>\n",
       "      <td>0</td>\n",
       "      <td>2</td>\n",
       "      <td>3</td>\n",
       "      <td>22.0</td>\n",
       "      <td>0</td>\n",
       "      <td>0</td>\n",
       "      <td>1</td>\n",
       "    </tr>\n",
       "  </tbody>\n",
       "</table>\n",
       "</div>"
      ],
      "text/plain": [
       "   Sex_encoded  Relatives  Pclass   Age  C  Q  S\n",
       "0            1          0       3  34.5  0  1  0\n",
       "1            0          1       3  47.0  0  0  1\n",
       "2            1          0       2  62.0  0  1  0\n",
       "3            1          0       3  27.0  0  0  1\n",
       "4            0          2       3  22.0  0  0  1"
      ]
     },
     "metadata": {},
     "output_type": "display_data"
    }
   ],
   "source": [
    "display(X_test.head())"
   ]
  },
  {
   "cell_type": "code",
   "execution_count": 12,
   "metadata": {},
   "outputs": [
    {
     "name": "stdout",
     "output_type": "stream",
     "text": [
      "Your submission was successfully saved!\n"
     ]
    }
   ],
   "source": [
    "model = RandomForestClassifier(n_estimators=200, max_depth=5)\n",
    "model.fit(X, y)\n",
    "\n",
    "# Get predictions on test data\n",
    "preds = model.predict(X_test)\n",
    "\n",
    "# Save to CSV file\n",
    "output = pd.DataFrame({'PassengerId': test.PassengerId,\n",
    "                      'Survived': preds})\n",
    "output.to_csv('submission.csv', index=False)\n",
    "print(\"Your submission was successfully saved!\")"
   ]
  },
  {
   "cell_type": "code",
   "execution_count": null,
   "metadata": {},
   "outputs": [],
   "source": []
  },
  {
   "cell_type": "code",
   "execution_count": null,
   "metadata": {},
   "outputs": [],
   "source": []
  }
 ],
 "metadata": {
  "kernelspec": {
   "display_name": "Python 3 (ipykernel)",
   "language": "python",
   "name": "python3"
  },
  "language_info": {
   "codemirror_mode": {
    "name": "ipython",
    "version": 3
   },
   "file_extension": ".py",
   "mimetype": "text/x-python",
   "name": "python",
   "nbconvert_exporter": "python",
   "pygments_lexer": "ipython3",
   "version": "3.10.4"
  },
  "vscode": {
   "interpreter": {
    "hash": "7e10d00bd58cc21e7af351ed168be74665b9d696303d1631ee379343fdb68829"
   }
  }
 },
 "nbformat": 4,
 "nbformat_minor": 2
}
